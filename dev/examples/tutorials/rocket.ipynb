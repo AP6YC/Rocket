{
 "cells": [
  {
   "cell_type": "markdown",
   "source": [
    "## Overview"
   ],
   "metadata": {}
  },
  {
   "cell_type": "markdown",
   "source": [
    "This demo shows how to get started with `Rocketeer.jl`."
   ],
   "metadata": {}
  },
  {
   "cell_type": "markdown",
   "source": [
    "## Setup"
   ],
   "metadata": {}
  },
  {
   "cell_type": "markdown",
   "source": [
    "First, we load the package in the usual manner with `using`"
   ],
   "metadata": {}
  },
  {
   "outputs": [],
   "cell_type": "code",
   "source": [
    "using Rocketeer"
   ],
   "metadata": {},
   "execution_count": 1
  },
  {
   "cell_type": "markdown",
   "source": [
    "Lets also declare a file name for saving the Rocket kernels along with some other script variables"
   ],
   "metadata": {}
  },
  {
   "outputs": [
    {
     "output_type": "execute_result",
     "data": {
      "text/plain": "200"
     },
     "metadata": {},
     "execution_count": 2
    }
   ],
   "cell_type": "code",
   "source": [
    "# Save file name\n",
    "filepath = \"my_rocket\"\n",
    "# Rocket and data hyper parameters\n",
    "input_length = 20\n",
    "n_kernels = 200"
   ],
   "metadata": {},
   "execution_count": 2
  },
  {
   "cell_type": "markdown",
   "source": [
    "## Create a `RocketModule`"
   ],
   "metadata": {}
  },
  {
   "cell_type": "markdown",
   "source": [
    "The hyperparameters of a `RocketModule` are the `input_length` of the features and the `n_kernels` number of kernels that we want to generate.\n",
    "To create a `RocketModule`, we have two constructors: one where we specify these two parameters, and one where we use the default values.\n",
    "Lets try out both:"
   ],
   "metadata": {}
  },
  {
   "outputs": [
    {
     "output_type": "execute_result",
     "data": {
      "text/plain": "RocketModule(input_length=20, n_kernels=200)"
     },
     "metadata": {},
     "execution_count": 3
    }
   ],
   "cell_type": "code",
   "source": [
    "# Create a default rocket module\n",
    "my_rocket = RocketModule()\n",
    "\n",
    "# Specify the hyperparameters\n",
    "my_specific_rocket = RocketModule(input_length, n_kernels)"
   ],
   "metadata": {},
   "execution_count": 3
  },
  {
   "cell_type": "markdown",
   "source": [
    "We can save the Rocket kernels for later use:"
   ],
   "metadata": {}
  },
  {
   "outputs": [],
   "cell_type": "code",
   "source": [
    "# Save the module to the filepath\n",
    "save_rocket(my_specific_rocket, filepath)"
   ],
   "metadata": {},
   "execution_count": 4
  },
  {
   "cell_type": "markdown",
   "source": [
    "and we can load them back up into a new object:"
   ],
   "metadata": {}
  },
  {
   "outputs": [
    {
     "output_type": "execute_result",
     "data": {
      "text/plain": "RocketModule(input_length=20, n_kernels=200)"
     },
     "metadata": {},
     "execution_count": 5
    }
   ],
   "cell_type": "code",
   "source": [
    "# Load the rocket module\n",
    "my_new_rocket = load_rocket(filepath)"
   ],
   "metadata": {},
   "execution_count": 5
  },
  {
   "cell_type": "markdown",
   "source": [
    "We can see here that the we got back the same `RocketModule` as the one we created in `my_specific_rocket`."
   ],
   "metadata": {}
  },
  {
   "cell_type": "markdown",
   "source": [
    "## Extract Kernel Features"
   ],
   "metadata": {}
  },
  {
   "cell_type": "markdown",
   "source": [
    "Lets generate some random raw input data for applying the kernels to:"
   ],
   "metadata": {}
  },
  {
   "outputs": [
    {
     "output_type": "execute_result",
     "data": {
      "text/plain": "20-element Vector{Float64}:\n 0.13912944414701067\n 0.2873323244110204\n 0.3854342333453601\n 0.8890876596079516\n 0.250348231165031\n 0.3259134684982037\n 0.0246751979638391\n 0.2859059420753619\n 0.8398122506859237\n 0.21623228143629114\n 0.789691035379927\n 0.7170991084464606\n 0.9285877644088498\n 0.38408621399837883\n 0.2113286039746255\n 0.18827602927790088\n 0.6009541557606847\n 0.19012266396838606\n 0.8274578181122142\n 0.48843989585827874"
     },
     "metadata": {},
     "execution_count": 6
    }
   ],
   "cell_type": "code",
   "source": [
    "X = rand(input_length)"
   ],
   "metadata": {},
   "execution_count": 6
  },
  {
   "cell_type": "markdown",
   "source": [
    "and apply the kernels on that data to extract a set of features:"
   ],
   "metadata": {}
  },
  {
   "outputs": [
    {
     "output_type": "execute_result",
     "data": {
      "text/plain": "200×2 Matrix{Float64}:\n 0.357143   1.55202\n 0.2        0.63362\n 0.7        0.274212\n 0.0       -0.149616\n 0.9        1.69746\n 0.3        0.197337\n 0.428571   1.46138\n 0.0       -0.849219\n 1.05       2.78911\n 1.05       2.42044\n ⋮         \n 0.9        2.72279\n 0.15       0.927459\n 1.05       4.78532\n 0.0       -0.714389\n 0.0       -0.974607\n 0.0       -0.165772\n 0.45       1.38926\n 0.0       -0.310346\n 0.85       2.3278"
     },
     "metadata": {},
     "execution_count": 7
    }
   ],
   "cell_type": "code",
   "source": [
    "kernel_features = apply_kernels(my_new_rocket, X)"
   ],
   "metadata": {},
   "execution_count": 7
  },
  {
   "cell_type": "markdown",
   "source": [
    "And voila, it's as easy as that!\n",
    "We have some features to use for analysis or otherwise some good old time series classification with other machine learning models."
   ],
   "metadata": {}
  },
  {
   "cell_type": "markdown",
   "source": [
    "Just to make sure to be thorough, we sill end this script by deleting the generated rocket save file."
   ],
   "metadata": {}
  },
  {
   "outputs": [],
   "cell_type": "code",
   "source": [
    "# Delete the saved file\n",
    "rm(filepath)"
   ],
   "metadata": {},
   "execution_count": 8
  },
  {
   "cell_type": "markdown",
   "source": [
    "---\n",
    "\n",
    "*This notebook was generated using [Literate.jl](https://github.com/fredrikekre/Literate.jl).*"
   ],
   "metadata": {}
  }
 ],
 "nbformat_minor": 3,
 "metadata": {
  "language_info": {
   "file_extension": ".jl",
   "mimetype": "application/julia",
   "name": "julia",
   "version": "1.9.3"
  },
  "kernelspec": {
   "name": "julia-1.9",
   "display_name": "Julia 1.9.3",
   "language": "julia"
  }
 },
 "nbformat": 4
}
