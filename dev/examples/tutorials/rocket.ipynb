{
 "cells": [
  {
   "cell_type": "markdown",
   "source": [
    "## Overview"
   ],
   "metadata": {}
  },
  {
   "cell_type": "markdown",
   "source": [
    "This demo shows how to get started with `Rocketeer.jl`."
   ],
   "metadata": {}
  },
  {
   "cell_type": "markdown",
   "source": [
    "## Setup"
   ],
   "metadata": {}
  },
  {
   "cell_type": "markdown",
   "source": [
    "First, we load the package in the usual manner with `using`"
   ],
   "metadata": {}
  },
  {
   "outputs": [],
   "cell_type": "code",
   "source": [
    "using Rocketeer"
   ],
   "metadata": {},
   "execution_count": 1
  },
  {
   "cell_type": "markdown",
   "source": [
    "Lets also declare a file name for saving the Rocket kernels along with some other script variables"
   ],
   "metadata": {}
  },
  {
   "outputs": [
    {
     "output_type": "execute_result",
     "data": {
      "text/plain": "200"
     },
     "metadata": {},
     "execution_count": 2
    }
   ],
   "cell_type": "code",
   "source": [
    "# Save file name\n",
    "filepath = \"my_rocket\"\n",
    "# Rocket and data hyper parameters\n",
    "input_length = 20\n",
    "n_kernels = 200"
   ],
   "metadata": {},
   "execution_count": 2
  },
  {
   "cell_type": "markdown",
   "source": [
    "## Create a `RocketModule`"
   ],
   "metadata": {}
  },
  {
   "cell_type": "markdown",
   "source": [
    "The hyperparameters of a `RocketModule` are the `input_length` of the features and the `n_kernels` number of kernels that we want to generate.\n",
    "To create a `RocketModule`, we have two constructors: one where we specify these two parameters, and one where we use the default values.\n",
    "Lets try out both:"
   ],
   "metadata": {}
  },
  {
   "outputs": [
    {
     "output_type": "execute_result",
     "data": {
      "text/plain": "RocketModule(input_length=20, n_kernels=200)"
     },
     "metadata": {},
     "execution_count": 3
    }
   ],
   "cell_type": "code",
   "source": [
    "# Create a default rocket module\n",
    "my_rocket = RocketModule()\n",
    "\n",
    "# Specify the hyperparameters\n",
    "my_specific_rocket = RocketModule(input_length, n_kernels)"
   ],
   "metadata": {},
   "execution_count": 3
  },
  {
   "cell_type": "markdown",
   "source": [
    "We can save the Rocket kernels for later use:"
   ],
   "metadata": {}
  },
  {
   "outputs": [],
   "cell_type": "code",
   "source": [
    "# Save the module to the filepath\n",
    "save_rocket(my_specific_rocket, filepath)"
   ],
   "metadata": {},
   "execution_count": 4
  },
  {
   "cell_type": "markdown",
   "source": [
    "and we can load them back up into a new object:"
   ],
   "metadata": {}
  },
  {
   "outputs": [
    {
     "output_type": "execute_result",
     "data": {
      "text/plain": "RocketModule(input_length=20, n_kernels=200)"
     },
     "metadata": {},
     "execution_count": 5
    }
   ],
   "cell_type": "code",
   "source": [
    "# Load the rocket module\n",
    "my_new_rocket = load_rocket(filepath)"
   ],
   "metadata": {},
   "execution_count": 5
  },
  {
   "cell_type": "markdown",
   "source": [
    "We can see here that the we got back the same `RocketModule` as the one we created in `my_specific_rocket`."
   ],
   "metadata": {}
  },
  {
   "cell_type": "markdown",
   "source": [
    "## Extract Kernel Features"
   ],
   "metadata": {}
  },
  {
   "cell_type": "markdown",
   "source": [
    "Lets generate some random raw input data for applying the kernels to:"
   ],
   "metadata": {}
  },
  {
   "outputs": [
    {
     "output_type": "execute_result",
     "data": {
      "text/plain": "20-element Vector{Float64}:\n 0.15148856684118672\n 0.12438163407266811\n 0.9722206822664984\n 0.3760005277663101\n 0.6978297397264636\n 0.14706166042287883\n 0.6969840687277696\n 0.7384282474923977\n 0.8066611043896744\n 0.31812314140250986\n 0.7484113886894614\n 0.016258195347921278\n 0.651803057658486\n 0.26417320041797565\n 0.2773184781332336\n 0.8687811836567321\n 0.10056281265950873\n 0.7794093518634503\n 0.8657459570378869\n 0.504330362096249"
     },
     "metadata": {},
     "execution_count": 6
    }
   ],
   "cell_type": "code",
   "source": [
    "X = rand(input_length)"
   ],
   "metadata": {},
   "execution_count": 6
  },
  {
   "cell_type": "markdown",
   "source": [
    "and apply the kernels on that data to extract a set of features:"
   ],
   "metadata": {}
  },
  {
   "outputs": [
    {
     "output_type": "execute_result",
     "data": {
      "text/plain": "200×2 Matrix{Float64}:\n 0.9        5.10123\n 1.08333    5.56904\n 0.0       -0.0557272\n 0.7        2.02037\n 0.65       1.79718\n 1.05       0.943777\n 0.285714   0.837976\n 0.45       1.72012\n 0.7        2.23449\n 0.5        0.34078\n ⋮         \n 0.0       -0.0567461\n 0.55       1.71157\n 0.0       -0.500825\n 0.5        0.998995\n 1.05       3.9437\n 1.07143    2.6386\n 1.05       1.49234\n 1.05       2.63131\n 0.9        3.88153"
     },
     "metadata": {},
     "execution_count": 7
    }
   ],
   "cell_type": "code",
   "source": [
    "kernel_features = apply_kernels(my_new_rocket, X)"
   ],
   "metadata": {},
   "execution_count": 7
  },
  {
   "cell_type": "markdown",
   "source": [
    "And voila, it's as easy as that!\n",
    "We have some features to use for analysis or otherwise some good old time series classification with other machine learning models."
   ],
   "metadata": {}
  },
  {
   "cell_type": "markdown",
   "source": [
    "Just to make sure to be thorough, we sill end this script by deleting the generated rocket save file."
   ],
   "metadata": {}
  },
  {
   "outputs": [],
   "cell_type": "code",
   "source": [
    "# Delete the saved file\n",
    "rm(filepath)"
   ],
   "metadata": {},
   "execution_count": 8
  },
  {
   "cell_type": "markdown",
   "source": [
    "---\n",
    "\n",
    "*This notebook was generated using [Literate.jl](https://github.com/fredrikekre/Literate.jl).*"
   ],
   "metadata": {}
  }
 ],
 "nbformat_minor": 3,
 "metadata": {
  "language_info": {
   "file_extension": ".jl",
   "mimetype": "application/julia",
   "name": "julia",
   "version": "1.10.0"
  },
  "kernelspec": {
   "name": "julia-1.10",
   "display_name": "Julia 1.10.0",
   "language": "julia"
  }
 },
 "nbformat": 4
}
