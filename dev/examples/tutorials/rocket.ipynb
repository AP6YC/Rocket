{
 "cells": [
  {
   "cell_type": "markdown",
   "source": [
    "## Overview"
   ],
   "metadata": {}
  },
  {
   "cell_type": "markdown",
   "source": [
    "This demo shows how to get started with `Rocketeer.jl`."
   ],
   "metadata": {}
  },
  {
   "cell_type": "markdown",
   "source": [
    "## Setup"
   ],
   "metadata": {}
  },
  {
   "cell_type": "markdown",
   "source": [
    "First, we load the package in the usual manner with `using`"
   ],
   "metadata": {}
  },
  {
   "outputs": [],
   "cell_type": "code",
   "source": [
    "using Rocketeer"
   ],
   "metadata": {},
   "execution_count": 1
  },
  {
   "cell_type": "markdown",
   "source": [
    "Lets also declare a file name for saving the Rocket kernels along with some other script variables"
   ],
   "metadata": {}
  },
  {
   "outputs": [
    {
     "output_type": "execute_result",
     "data": {
      "text/plain": "200"
     },
     "metadata": {},
     "execution_count": 2
    }
   ],
   "cell_type": "code",
   "source": [
    "# Save file name\n",
    "filepath = \"my_rocket\"\n",
    "# Rocket and data hyper parameters\n",
    "input_length = 20\n",
    "n_kernels = 200"
   ],
   "metadata": {},
   "execution_count": 2
  },
  {
   "cell_type": "markdown",
   "source": [
    "## Create a `RocketModule`"
   ],
   "metadata": {}
  },
  {
   "cell_type": "markdown",
   "source": [
    "The hyperparameters of a `RocketModule` are the `input_length` of the features and the `n_kernels` number of kernels that we want to generate.\n",
    "To create a `RocketModule`, we have two constructors: one where we specify these two parameters, and one where we use the default values.\n",
    "Lets try out both:"
   ],
   "metadata": {}
  },
  {
   "outputs": [
    {
     "output_type": "execute_result",
     "data": {
      "text/plain": "RocketModule(input_length=20, n_kernels=200)"
     },
     "metadata": {},
     "execution_count": 3
    }
   ],
   "cell_type": "code",
   "source": [
    "# Create a default rocket module\n",
    "my_rocket = RocketModule()\n",
    "\n",
    "# Specify the hyperparameters\n",
    "my_specific_rocket = RocketModule(input_length, n_kernels)"
   ],
   "metadata": {},
   "execution_count": 3
  },
  {
   "cell_type": "markdown",
   "source": [
    "We can save the Rocket kernels for later use:"
   ],
   "metadata": {}
  },
  {
   "outputs": [],
   "cell_type": "code",
   "source": [
    "# Save the module to the filepath\n",
    "save_rocket(my_specific_rocket, filepath)"
   ],
   "metadata": {},
   "execution_count": 4
  },
  {
   "cell_type": "markdown",
   "source": [
    "and we can load them back up into a new object:"
   ],
   "metadata": {}
  },
  {
   "outputs": [
    {
     "output_type": "execute_result",
     "data": {
      "text/plain": "RocketModule(input_length=20, n_kernels=200)"
     },
     "metadata": {},
     "execution_count": 5
    }
   ],
   "cell_type": "code",
   "source": [
    "# Load the rocket module\n",
    "my_new_rocket = load_rocket(filepath)"
   ],
   "metadata": {},
   "execution_count": 5
  },
  {
   "cell_type": "markdown",
   "source": [
    "We can see here that the we got back the same `RocketModule` as the one we created in `my_specific_rocket`."
   ],
   "metadata": {}
  },
  {
   "cell_type": "markdown",
   "source": [
    "## Extract Kernel Features"
   ],
   "metadata": {}
  },
  {
   "cell_type": "markdown",
   "source": [
    "Lets generate some random raw input data for applying the kernels to:"
   ],
   "metadata": {}
  },
  {
   "outputs": [
    {
     "output_type": "execute_result",
     "data": {
      "text/plain": "20-element Vector{Float64}:\n 0.5402651620662595\n 0.39031838447360023\n 0.895457060863683\n 0.42407673103061294\n 0.6599892687340299\n 0.99656270977419\n 0.5838054475394161\n 0.8138669728601352\n 0.9603835198983096\n 0.6515201998817579\n 0.9594521911434736\n 0.3451305384022124\n 0.8777319167841436\n 0.8475552407200726\n 0.833708007262221\n 0.3385316434146828\n 0.06701213974640763\n 0.07357407395866278\n 0.6528110864077428\n 0.32920496885783046"
     },
     "metadata": {},
     "execution_count": 6
    }
   ],
   "cell_type": "code",
   "source": [
    "X = rand(input_length)"
   ],
   "metadata": {},
   "execution_count": 6
  },
  {
   "cell_type": "markdown",
   "source": [
    "and apply the kernels on that data to extract a set of features:"
   ],
   "metadata": {}
  },
  {
   "outputs": [
    {
     "output_type": "execute_result",
     "data": {
      "text/plain": "200×2 Matrix{Float64}:\n 0.285714   1.6537\n 1.05       0.516685\n 1.05       0.862406\n 1.05       3.03543\n 0.4        0.402285\n 0.0       -0.948878\n 0.0       -0.530157\n 0.0       -0.0780328\n 0.35       0.832092\n 1.08333    3.35991\n ⋮         \n 0.75       1.14258\n 0.65       0.576068\n 1.05       0.67811\n 0.642857   0.868311\n 0.2        0.641667\n 1.05       3.58623\n 1.05       4.4135\n 0.2        0.563259\n 0.0       -0.780101"
     },
     "metadata": {},
     "execution_count": 7
    }
   ],
   "cell_type": "code",
   "source": [
    "kernel_features = apply_kernels(my_new_rocket, X)"
   ],
   "metadata": {},
   "execution_count": 7
  },
  {
   "cell_type": "markdown",
   "source": [
    "And voila, it's as easy as that!\n",
    "We have some features to use for analysis or otherwise some good old time series classification with other machine learning models."
   ],
   "metadata": {}
  },
  {
   "cell_type": "markdown",
   "source": [
    "Just to make sure to be thorough, we sill end this script by deleting the generated rocket save file."
   ],
   "metadata": {}
  },
  {
   "outputs": [],
   "cell_type": "code",
   "source": [
    "# Delete the saved file\n",
    "rm(filepath)"
   ],
   "metadata": {},
   "execution_count": 8
  },
  {
   "cell_type": "markdown",
   "source": [
    "---\n",
    "\n",
    "*This notebook was generated using [Literate.jl](https://github.com/fredrikekre/Literate.jl).*"
   ],
   "metadata": {}
  }
 ],
 "nbformat_minor": 3,
 "metadata": {
  "language_info": {
   "file_extension": ".jl",
   "mimetype": "application/julia",
   "name": "julia",
   "version": "1.9.2"
  },
  "kernelspec": {
   "name": "julia-1.9",
   "display_name": "Julia 1.9.2",
   "language": "julia"
  }
 },
 "nbformat": 4
}
