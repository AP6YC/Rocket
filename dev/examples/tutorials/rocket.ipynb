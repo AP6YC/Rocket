{
 "cells": [
  {
   "cell_type": "markdown",
   "source": [
    "## Overview"
   ],
   "metadata": {}
  },
  {
   "cell_type": "markdown",
   "source": [
    "This demo shows how to get started with `Rocketeer.jl`."
   ],
   "metadata": {}
  },
  {
   "cell_type": "markdown",
   "source": [
    "## Setup"
   ],
   "metadata": {}
  },
  {
   "cell_type": "markdown",
   "source": [
    "First, we load the package in the usual manner with `using`"
   ],
   "metadata": {}
  },
  {
   "outputs": [],
   "cell_type": "code",
   "source": [
    "using Rocketeer"
   ],
   "metadata": {},
   "execution_count": 1
  },
  {
   "cell_type": "markdown",
   "source": [
    "Lets also declare a file name for saving the Rocket kernels along with some other script variables"
   ],
   "metadata": {}
  },
  {
   "outputs": [
    {
     "output_type": "execute_result",
     "data": {
      "text/plain": "200"
     },
     "metadata": {},
     "execution_count": 2
    }
   ],
   "cell_type": "code",
   "source": [
    "# Save file name\n",
    "filepath = \"my_rocket\"\n",
    "# Rocket and data hyper parameters\n",
    "input_length = 20\n",
    "n_kernels = 200"
   ],
   "metadata": {},
   "execution_count": 2
  },
  {
   "cell_type": "markdown",
   "source": [
    "## Create a `RocketModule`"
   ],
   "metadata": {}
  },
  {
   "cell_type": "markdown",
   "source": [
    "The hyperparameters of a `RocketModule` are the `input_length` of the features and the `n_kernels` number of kernels that we want to generate.\n",
    "To create a `RocketModule`, we have two constructors: one where we specify these two parameters, and one where we use the default values.\n",
    "Lets try out both:"
   ],
   "metadata": {}
  },
  {
   "outputs": [
    {
     "output_type": "execute_result",
     "data": {
      "text/plain": "RocketModule(input_length=20, n_kernels=200)"
     },
     "metadata": {},
     "execution_count": 3
    }
   ],
   "cell_type": "code",
   "source": [
    "# Create a default rocket module\n",
    "my_rocket = RocketModule()\n",
    "\n",
    "# Specify the hyperparameters\n",
    "my_specific_rocket = RocketModule(input_length, n_kernels)"
   ],
   "metadata": {},
   "execution_count": 3
  },
  {
   "cell_type": "markdown",
   "source": [
    "We can save the Rocket kernels for later use:"
   ],
   "metadata": {}
  },
  {
   "outputs": [],
   "cell_type": "code",
   "source": [
    "# Save the module to the filepath\n",
    "save_rocket(my_specific_rocket, filepath)"
   ],
   "metadata": {},
   "execution_count": 4
  },
  {
   "cell_type": "markdown",
   "source": [
    "and we can load them back up into a new object:"
   ],
   "metadata": {}
  },
  {
   "outputs": [
    {
     "output_type": "execute_result",
     "data": {
      "text/plain": "RocketModule(input_length=20, n_kernels=200)"
     },
     "metadata": {},
     "execution_count": 5
    }
   ],
   "cell_type": "code",
   "source": [
    "# Load the rocket module\n",
    "my_new_rocket = load_rocket(filepath)"
   ],
   "metadata": {},
   "execution_count": 5
  },
  {
   "cell_type": "markdown",
   "source": [
    "We can see here that the we got back the same `RocketModule` as the one we created in `my_specific_rocket`."
   ],
   "metadata": {}
  },
  {
   "cell_type": "markdown",
   "source": [
    "## Extract Kernel Features"
   ],
   "metadata": {}
  },
  {
   "cell_type": "markdown",
   "source": [
    "Lets generate some random raw input data for applying the kernels to:"
   ],
   "metadata": {}
  },
  {
   "outputs": [
    {
     "output_type": "execute_result",
     "data": {
      "text/plain": "20-element Vector{Float64}:\n 0.04121272407807319\n 0.9871779504887338\n 0.8791037251531849\n 0.7998514115248893\n 0.0977311874613298\n 0.4667958277840184\n 0.1115218629652629\n 0.3101152875025607\n 0.44088090052483375\n 0.8965822878420721\n 0.8570319508699527\n 0.8627395668181853\n 0.746562187767213\n 0.2521338716631968\n 0.5123602661213238\n 0.7701586842950419\n 0.9035899018604985\n 0.889053422692686\n 0.20072503985866874\n 0.8426126777547186"
     },
     "metadata": {},
     "execution_count": 6
    }
   ],
   "cell_type": "code",
   "source": [
    "X = rand(input_length)"
   ],
   "metadata": {},
   "execution_count": 6
  },
  {
   "cell_type": "markdown",
   "source": [
    "and apply the kernels on that data to extract a set of features:"
   ],
   "metadata": {}
  },
  {
   "outputs": [
    {
     "output_type": "execute_result",
     "data": {
      "text/plain": "200×2 Matrix{Float64}:\n 0.1       0.170794\n 1.05      1.22531\n 0.0      -0.197377\n 0.95      4.7809\n 1.05      0.910304\n 0.0      -0.451077\n 1.05      0.823161\n 0.25      0.588065\n 0.0      -0.442075\n 1.05      2.51451\n ⋮        \n 1.08333   4.18777\n 0.35      0.426282\n 1.05      4.88482\n 0.15      0.867117\n 0.5       0.552074\n 0.95      3.48191\n 0.0      -0.093619\n 0.5       0.0444114\n 0.55      0.966639"
     },
     "metadata": {},
     "execution_count": 7
    }
   ],
   "cell_type": "code",
   "source": [
    "kernel_features = apply_kernels(my_new_rocket, X)"
   ],
   "metadata": {},
   "execution_count": 7
  },
  {
   "cell_type": "markdown",
   "source": [
    "And voila, it's as easy as that!\n",
    "We have some features to use for analysis or otherwise some good old time series classification with other machine learning models."
   ],
   "metadata": {}
  },
  {
   "cell_type": "markdown",
   "source": [
    "Just to make sure to be thorough, we sill end this script by deleting the generated rocket save file."
   ],
   "metadata": {}
  },
  {
   "outputs": [],
   "cell_type": "code",
   "source": [
    "# Delete the saved file\n",
    "rm(filepath)"
   ],
   "metadata": {},
   "execution_count": 8
  },
  {
   "cell_type": "markdown",
   "source": [
    "---\n",
    "\n",
    "*This notebook was generated using [Literate.jl](https://github.com/fredrikekre/Literate.jl).*"
   ],
   "metadata": {}
  }
 ],
 "nbformat_minor": 3,
 "metadata": {
  "language_info": {
   "file_extension": ".jl",
   "mimetype": "application/julia",
   "name": "julia",
   "version": "1.9.4"
  },
  "kernelspec": {
   "name": "julia-1.9",
   "display_name": "Julia 1.9.4",
   "language": "julia"
  }
 },
 "nbformat": 4
}
