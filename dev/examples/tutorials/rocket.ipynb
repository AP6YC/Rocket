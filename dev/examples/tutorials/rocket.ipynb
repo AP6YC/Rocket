{
 "cells": [
  {
   "cell_type": "markdown",
   "source": [
    "## Overview"
   ],
   "metadata": {}
  },
  {
   "cell_type": "markdown",
   "source": [
    "This demo shows how to get started with `Rocketeer.jl`."
   ],
   "metadata": {}
  },
  {
   "cell_type": "markdown",
   "source": [
    "## Setup"
   ],
   "metadata": {}
  },
  {
   "cell_type": "markdown",
   "source": [
    "First, we load the package in the usual manner with `using`"
   ],
   "metadata": {}
  },
  {
   "outputs": [],
   "cell_type": "code",
   "source": [
    "using Rocketeer"
   ],
   "metadata": {},
   "execution_count": 1
  },
  {
   "cell_type": "markdown",
   "source": [
    "Lets also declare a file name for saving the Rocket kernels along with some other script variables"
   ],
   "metadata": {}
  },
  {
   "outputs": [
    {
     "output_type": "execute_result",
     "data": {
      "text/plain": "200"
     },
     "metadata": {},
     "execution_count": 2
    }
   ],
   "cell_type": "code",
   "source": [
    "# Save file name\n",
    "filepath = \"my_rocket\"\n",
    "# Rocket and data hyper parameters\n",
    "input_length = 20\n",
    "n_kernels = 200"
   ],
   "metadata": {},
   "execution_count": 2
  },
  {
   "cell_type": "markdown",
   "source": [
    "## Create a `RocketModule`"
   ],
   "metadata": {}
  },
  {
   "cell_type": "markdown",
   "source": [
    "The hyperparameters of a `RocketModule` are the `input_length` of the features and the `n_kernels` number of kernels that we want to generate.\n",
    "To create a `RocketModule`, we have two constructors: one where we specify these two parameters, and one where we use the default values.\n",
    "Lets try out both:"
   ],
   "metadata": {}
  },
  {
   "outputs": [
    {
     "output_type": "execute_result",
     "data": {
      "text/plain": "RocketModule(input_length=20, n_kernels=200)"
     },
     "metadata": {},
     "execution_count": 3
    }
   ],
   "cell_type": "code",
   "source": [
    "# Create a default rocket module\n",
    "my_rocket = RocketModule()\n",
    "\n",
    "# Specify the hyperparameters\n",
    "my_specific_rocket = RocketModule(input_length, n_kernels)"
   ],
   "metadata": {},
   "execution_count": 3
  },
  {
   "cell_type": "markdown",
   "source": [
    "We can save the Rocket kernels for later use:"
   ],
   "metadata": {}
  },
  {
   "outputs": [],
   "cell_type": "code",
   "source": [
    "# Save the module to the filepath\n",
    "save_rocket(my_specific_rocket, filepath)"
   ],
   "metadata": {},
   "execution_count": 4
  },
  {
   "cell_type": "markdown",
   "source": [
    "and we can load them back up into a new object:"
   ],
   "metadata": {}
  },
  {
   "outputs": [
    {
     "output_type": "execute_result",
     "data": {
      "text/plain": "RocketModule(input_length=20, n_kernels=200)"
     },
     "metadata": {},
     "execution_count": 5
    }
   ],
   "cell_type": "code",
   "source": [
    "# Load the rocket module\n",
    "my_new_rocket = load_rocket(filepath)"
   ],
   "metadata": {},
   "execution_count": 5
  },
  {
   "cell_type": "markdown",
   "source": [
    "We can see here that the we got back the same `RocketModule` as the one we created in `my_specific_rocket`."
   ],
   "metadata": {}
  },
  {
   "cell_type": "markdown",
   "source": [
    "## Extract Kernel Features"
   ],
   "metadata": {}
  },
  {
   "cell_type": "markdown",
   "source": [
    "Lets generate some random raw input data for applying the kernels to:"
   ],
   "metadata": {}
  },
  {
   "outputs": [
    {
     "output_type": "execute_result",
     "data": {
      "text/plain": "20-element Vector{Float64}:\n 0.534789322360928\n 0.5636344880174722\n 0.4523730403352023\n 0.03450169457900565\n 0.11524714614483755\n 0.9912504759019986\n 0.6651058072944342\n 0.33105870137712756\n 0.11696377919093082\n 0.020235634345578957\n 0.9635649217134749\n 0.10302700797536157\n 0.9395060276472686\n 0.18854592126625536\n 0.7721561981888931\n 0.8826809647916025\n 0.991894780332918\n 0.7528981743315083\n 0.761314680396359\n 0.7511310237208588"
     },
     "metadata": {},
     "execution_count": 6
    }
   ],
   "cell_type": "code",
   "source": [
    "X = rand(input_length)"
   ],
   "metadata": {},
   "execution_count": 6
  },
  {
   "cell_type": "markdown",
   "source": [
    "and apply the kernels on that data to extract a set of features:"
   ],
   "metadata": {}
  },
  {
   "outputs": [
    {
     "output_type": "execute_result",
     "data": {
      "text/plain": "200×2 Matrix{Float64}:\n 1.05   2.04222\n 0.0   -0.500654\n 0.65   1.54225\n 0.8    2.09978\n 0.85   0.745129\n 0.95   3.19703\n 1.05   3.73081\n 0.15   0.10251\n 0.5    0.494302\n 0.6    1.07459\n ⋮     \n 1.0    3.25657\n 0.75   2.89959\n 0.4    0.835853\n 1.05   5.0252\n 0.5    0.992974\n 0.7    4.55743\n 1.05   0.815773\n 0.1    0.0144162\n 0.0   -0.389111"
     },
     "metadata": {},
     "execution_count": 7
    }
   ],
   "cell_type": "code",
   "source": [
    "kernel_features = apply_kernels(my_new_rocket, X)"
   ],
   "metadata": {},
   "execution_count": 7
  },
  {
   "cell_type": "markdown",
   "source": [
    "And voila, it's as easy as that!\n",
    "We have some features to use for analysis or otherwise some good old time series classification with other machine learning models."
   ],
   "metadata": {}
  },
  {
   "cell_type": "markdown",
   "source": [
    "Just to make sure to be thorough, we sill end this script by deleting the generated rocket save file."
   ],
   "metadata": {}
  },
  {
   "outputs": [],
   "cell_type": "code",
   "source": [
    "# Delete the saved file\n",
    "rm(filepath)"
   ],
   "metadata": {},
   "execution_count": 8
  },
  {
   "cell_type": "markdown",
   "source": [
    "---\n",
    "\n",
    "*This notebook was generated using [Literate.jl](https://github.com/fredrikekre/Literate.jl).*"
   ],
   "metadata": {}
  }
 ],
 "nbformat_minor": 3,
 "metadata": {
  "language_info": {
   "file_extension": ".jl",
   "mimetype": "application/julia",
   "name": "julia",
   "version": "1.9.3"
  },
  "kernelspec": {
   "name": "julia-1.9",
   "display_name": "Julia 1.9.3",
   "language": "julia"
  }
 },
 "nbformat": 4
}
